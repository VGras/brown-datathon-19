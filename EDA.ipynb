{
 "cells": [
  {
   "cell_type": "code",
   "execution_count": 2,
   "metadata": {
    "collapsed": true
   },
   "outputs": [],
   "source": [
    "import pandas as pd\n",
    "import numpy as np\n",
    "import seaborn as sns\n",
    "sns.set(style=\"whitegrid\", color_codes=True)\n",
    "\n",
    "%matplotlib inline\n",
    "import matplotlib.pyplot as plt\n",
    "import warnings\n",
    "warnings.simplefilter(action='ignore', category=FutureWarning)"
   ]
  },
  {
   "cell_type": "markdown",
   "metadata": {},
   "source": [
    "## Read data"
   ]
  },
  {
   "cell_type": "code",
   "execution_count": 4,
   "metadata": {
    "collapsed": true
   },
   "outputs": [],
   "source": [
    "activity = pd.read_csv('activity_data.csv')"
   ]
  },
  {
   "cell_type": "code",
   "execution_count": 357,
   "metadata": {
    "collapsed": true
   },
   "outputs": [],
   "source": [
    "hotel = pd.read_csv('hotel_data.csv')"
   ]
  },
  {
   "cell_type": "code",
   "execution_count": 337,
   "metadata": {
    "collapsed": true
   },
   "outputs": [],
   "source": [
    "rental_by_zip = pd.read_csv('rental_prices.csv')"
   ]
  },
  {
   "cell_type": "code",
   "execution_count": 338,
   "metadata": {
    "collapsed": true
   },
   "outputs": [],
   "source": [
    "hotel_with_zip = pd.read_csv('hotel_zip1.csv')"
   ]
  },
  {
   "cell_type": "markdown",
   "metadata": {},
   "source": [
    "## New Data "
   ]
  },
  {
   "cell_type": "code",
   "execution_count": 5,
   "metadata": {
    "collapsed": true
   },
   "outputs": [],
   "source": [
    "booking = activity[activity.user_action == 'booking']"
   ]
  },
  {
   "cell_type": "code",
   "execution_count": 23,
   "metadata": {},
   "outputs": [
    {
     "data": {
      "text/html": [
       "<div>\n",
       "<style>\n",
       "    .dataframe thead tr:only-child th {\n",
       "        text-align: right;\n",
       "    }\n",
       "\n",
       "    .dataframe thead th {\n",
       "        text-align: left;\n",
       "    }\n",
       "\n",
       "    .dataframe tbody tr th {\n",
       "        vertical-align: top;\n",
       "    }\n",
       "</style>\n",
       "<table border=\"1\" class=\"dataframe\">\n",
       "  <thead>\n",
       "    <tr style=\"text-align: right;\">\n",
       "      <th></th>\n",
       "      <th>date</th>\n",
       "      <th>user_id</th>\n",
       "      <th>user_country</th>\n",
       "      <th>device</th>\n",
       "      <th>hotel_id</th>\n",
       "      <th>user_action</th>\n",
       "    </tr>\n",
       "  </thead>\n",
       "  <tbody>\n",
       "    <tr>\n",
       "      <th>444</th>\n",
       "      <td>2019-01-19</td>\n",
       "      <td>306169</td>\n",
       "      <td>Sweden</td>\n",
       "      <td>osx</td>\n",
       "      <td>80110</td>\n",
       "      <td>booking</td>\n",
       "    </tr>\n",
       "    <tr>\n",
       "      <th>471</th>\n",
       "      <td>2019-01-06</td>\n",
       "      <td>82352</td>\n",
       "      <td>Sweden</td>\n",
       "      <td>iphone_browser</td>\n",
       "      <td>122005</td>\n",
       "      <td>booking</td>\n",
       "    </tr>\n",
       "    <tr>\n",
       "      <th>522</th>\n",
       "      <td>2019-01-14</td>\n",
       "      <td>347040</td>\n",
       "      <td>United States</td>\n",
       "      <td>windows</td>\n",
       "      <td>99288</td>\n",
       "      <td>booking</td>\n",
       "    </tr>\n",
       "    <tr>\n",
       "      <th>681</th>\n",
       "      <td>2019-01-17</td>\n",
       "      <td>150954</td>\n",
       "      <td>United Kingdom</td>\n",
       "      <td>windows</td>\n",
       "      <td>1646128</td>\n",
       "      <td>booking</td>\n",
       "    </tr>\n",
       "  </tbody>\n",
       "</table>\n",
       "</div>"
      ],
      "text/plain": [
       "           date  user_id    user_country          device  hotel_id user_action\n",
       "444  2019-01-19   306169          Sweden             osx     80110     booking\n",
       "471  2019-01-06    82352          Sweden  iphone_browser    122005     booking\n",
       "522  2019-01-14   347040   United States         windows     99288     booking\n",
       "681  2019-01-17   150954  United Kingdom         windows   1646128     booking"
      ]
     },
     "execution_count": 23,
     "metadata": {},
     "output_type": "execute_result"
    }
   ],
   "source": [
    "booking.head(4)"
   ]
  },
  {
   "cell_type": "code",
   "execution_count": 24,
   "metadata": {
    "collapsed": true
   },
   "outputs": [],
   "source": [
    "booking_location = pd.merge(booking, hotel[['hotel_id', 'city_name', 'hotel_type']], on = 'hotel_id')"
   ]
  },
  {
   "cell_type": "code",
   "execution_count": 25,
   "metadata": {},
   "outputs": [
    {
     "data": {
      "text/html": [
       "<div>\n",
       "<style>\n",
       "    .dataframe thead tr:only-child th {\n",
       "        text-align: right;\n",
       "    }\n",
       "\n",
       "    .dataframe thead th {\n",
       "        text-align: left;\n",
       "    }\n",
       "\n",
       "    .dataframe tbody tr th {\n",
       "        vertical-align: top;\n",
       "    }\n",
       "</style>\n",
       "<table border=\"1\" class=\"dataframe\">\n",
       "  <thead>\n",
       "    <tr style=\"text-align: right;\">\n",
       "      <th></th>\n",
       "      <th>date</th>\n",
       "      <th>user_id</th>\n",
       "      <th>user_country</th>\n",
       "      <th>device</th>\n",
       "      <th>hotel_id</th>\n",
       "      <th>user_action</th>\n",
       "      <th>city_name</th>\n",
       "      <th>hotel_type</th>\n",
       "    </tr>\n",
       "  </thead>\n",
       "  <tbody>\n",
       "    <tr>\n",
       "      <th>0</th>\n",
       "      <td>2019-01-19</td>\n",
       "      <td>306169</td>\n",
       "      <td>Sweden</td>\n",
       "      <td>osx</td>\n",
       "      <td>80110</td>\n",
       "      <td>booking</td>\n",
       "      <td>New York City</td>\n",
       "      <td>Hotel</td>\n",
       "    </tr>\n",
       "    <tr>\n",
       "      <th>1</th>\n",
       "      <td>2019-01-01</td>\n",
       "      <td>50419</td>\n",
       "      <td>United States</td>\n",
       "      <td>osx</td>\n",
       "      <td>80110</td>\n",
       "      <td>booking</td>\n",
       "      <td>New York City</td>\n",
       "      <td>Hotel</td>\n",
       "    </tr>\n",
       "    <tr>\n",
       "      <th>2</th>\n",
       "      <td>2019-01-27</td>\n",
       "      <td>140594</td>\n",
       "      <td>Ireland</td>\n",
       "      <td>iphone_browser</td>\n",
       "      <td>80110</td>\n",
       "      <td>booking</td>\n",
       "      <td>New York City</td>\n",
       "      <td>Hotel</td>\n",
       "    </tr>\n",
       "    <tr>\n",
       "      <th>3</th>\n",
       "      <td>2019-01-09</td>\n",
       "      <td>245468</td>\n",
       "      <td>United States</td>\n",
       "      <td>windows</td>\n",
       "      <td>80110</td>\n",
       "      <td>booking</td>\n",
       "      <td>New York City</td>\n",
       "      <td>Hotel</td>\n",
       "    </tr>\n",
       "  </tbody>\n",
       "</table>\n",
       "</div>"
      ],
      "text/plain": [
       "         date  user_id   user_country          device  hotel_id user_action  \\\n",
       "0  2019-01-19   306169         Sweden             osx     80110     booking   \n",
       "1  2019-01-01    50419  United States             osx     80110     booking   \n",
       "2  2019-01-27   140594        Ireland  iphone_browser     80110     booking   \n",
       "3  2019-01-09   245468  United States         windows     80110     booking   \n",
       "\n",
       "       city_name hotel_type  \n",
       "0  New York City      Hotel  \n",
       "1  New York City      Hotel  \n",
       "2  New York City      Hotel  \n",
       "3  New York City      Hotel  "
      ]
     },
     "execution_count": 25,
     "metadata": {},
     "output_type": "execute_result"
    }
   ],
   "source": [
    "booking_location.head(4)"
   ]
  },
  {
   "cell_type": "code",
   "execution_count": 104,
   "metadata": {
    "collapsed": true
   },
   "outputs": [],
   "source": [
    "def label_country_group (row):\n",
    "    if row['user_country'] == \"United States\":\n",
    "        return 'Domestic'\n",
    "    if row['user_country'] == \"Canada\":\n",
    "        return 'English International'\n",
    "    if row['user_country'] == \"Australia\":\n",
    "        return 'English International'\n",
    "    if row['user_country'] == \"United Kingdom\":\n",
    "        return 'English International'\n",
    "    if row['user_country'] == \"Ireland\":\n",
    "        return 'English International'\n",
    "    if row['user_country'] == \"Ghana\":\n",
    "        return 'English International'\n",
    "    if row['user_country'] == \"Kenya\":\n",
    "        return 'English International'\n",
    "    if row['user_country'] == \"Lesotho\":\n",
    "        return 'English International'\n",
    "    if row['user_country'] == \"Malta\":\n",
    "        return 'English International'\n",
    "    if row['user_country'] == \"Namibia\":\n",
    "        return 'English International'\n",
    "    if row['user_country'] == \"New Zealand\":\n",
    "        return 'English International'\n",
    "    if row['user_country'] == \"Nigeria\":\n",
    "        return 'English International'\n",
    "    if row['user_country'] == \"Singapore\":\n",
    "        return 'English International'\n",
    "    if row['user_country'] == \"South Africa\":\n",
    "        return 'English International'\n",
    "    if row['user_country'] == \"Uganda\":\n",
    "        return 'English International'\n",
    "    return 'International'"
   ]
  },
  {
   "cell_type": "code",
   "execution_count": 105,
   "metadata": {
    "collapsed": true
   },
   "outputs": [],
   "source": [
    "def label_city_place (row):\n",
    "    if row['city_name'] == 'New York City':\n",
    "        return 'New York City'\n",
    "    if row['city_name'] == 'Brooklyn':\n",
    "        return 'Brooklyn'\n",
    "    if row['city_name'] == 'Queens':\n",
    "        return 'Queens'\n",
    "    return 'Jersey'"
   ]
  },
  {
   "cell_type": "code",
   "execution_count": 106,
   "metadata": {
    "collapsed": true
   },
   "outputs": [],
   "source": [
    "booking_location['country_group'] = booking_location.apply (lambda row: label_country_group (row),axis=1)"
   ]
  },
  {
   "cell_type": "code",
   "execution_count": 107,
   "metadata": {
    "collapsed": true
   },
   "outputs": [],
   "source": [
    "booking_location['city_place'] = booking_location.apply (lambda row: label_city_place (row),axis=1)"
   ]
  },
  {
   "cell_type": "code",
   "execution_count": 108,
   "metadata": {},
   "outputs": [
    {
     "data": {
      "text/plain": [
       "<matplotlib.axes._subplots.AxesSubplot at 0x1f01703b710>"
      ]
     },
     "execution_count": 108,
     "metadata": {},
     "output_type": "execute_result"
    },
    {
     "data": {
      "image/png": "[encoded data removed]",
      "text/plain": [
       "<matplotlib.figure.Figure at 0x1f01c6dccc0>"
      ]
     },
     "metadata": {},
     "output_type": "display_data"
    }
   ],
   "source": [
    "booking_location['city_place'].groupby(booking_location['country_group']).value_counts(normalize=True).rename(\"proportion\").reset_index().pipe((sns.barplot, \"data\"), x=\"city_place\", y=\"proportion\", hue=\"country_group\")"
   ]
  },
  {
   "cell_type": "code",
   "execution_count": 167,
   "metadata": {
    "collapsed": true
   },
   "outputs": [],
   "source": [
    "hello = activity[activity.user_action=='booking'].groupby(\"user_country\").agg({\"user_id\": pd.Series.nunique})"
   ]
  },
  {
   "cell_type": "code",
   "execution_count": 168,
   "metadata": {
    "collapsed": true
   },
   "outputs": [],
   "source": [
    "hello.columns = [\"booking_number\"]"
   ]
  },
  {
   "cell_type": "code",
   "execution_count": 169,
   "metadata": {
    "collapsed": true
   },
   "outputs": [],
   "source": [
    "hello2 = activity.groupby(\"user_country\").agg({\"user_id\": pd.Series.nunique})"
   ]
  },
  {
   "cell_type": "code",
   "execution_count": 170,
   "metadata": {
    "collapsed": true
   },
   "outputs": [],
   "source": [
    "hello2.columns = ['total_users']"
   ]
  },
  {
   "cell_type": "code",
   "execution_count": 171,
   "metadata": {
    "collapsed": true
   },
   "outputs": [],
   "source": [
    "hello3 = activity[activity.user_action=='hotel_website_click'].groupby(\"user_country\").agg({\"user_id\": pd.Series.nunique})"
   ]
  },
  {
   "cell_type": "code",
   "execution_count": 178,
   "metadata": {
    "collapsed": true
   },
   "outputs": [],
   "source": [
    "hello3.columns = ['users_click_hotel_web']"
   ]
  },
  {
   "cell_type": "code",
   "execution_count": 194,
   "metadata": {
    "collapsed": true
   },
   "outputs": [],
   "source": [
    "users_hotel_web = activity[activity.user_action=='hotel_website_click']"
   ]
  },
  {
   "cell_type": "code",
   "execution_count": 196,
   "metadata": {
    "collapsed": true
   },
   "outputs": [],
   "source": [
    "users_both_hotel_and_book = pd.merge(users_hotel_web, booking, on = 'user_id', how = 'inner')"
   ]
  },
  {
   "cell_type": "code",
   "execution_count": 201,
   "metadata": {
    "collapsed": true
   },
   "outputs": [],
   "source": [
    "hello4 = users_both_hotel_and_book.groupby(\"user_country_x\").agg({\"user_id\": pd.Series.nunique})"
   ]
  },
  {
   "cell_type": "code",
   "execution_count": 202,
   "metadata": {
    "collapsed": true
   },
   "outputs": [],
   "source": [
    "hello4.columns = [\"booked_and_hotel_web\"]"
   ]
  },
  {
   "cell_type": "code",
   "execution_count": 179,
   "metadata": {
    "collapsed": true
   },
   "outputs": [],
   "source": [
    "numbers_by_country = hello.join(hello2, how = 'outer')"
   ]
  },
  {
   "cell_type": "code",
   "execution_count": 180,
   "metadata": {
    "collapsed": true
   },
   "outputs": [],
   "source": [
    "numbers_by_country = numbers_by_country.join(hello3, how = 'outer')"
   ]
  },
  {
   "cell_type": "code",
   "execution_count": 203,
   "metadata": {
    "collapsed": true
   },
   "outputs": [],
   "source": [
    "numbers_by_country = numbers_by_country.join(hello4, how = 'outer')"
   ]
  },
  {
   "cell_type": "code",
   "execution_count": 204,
   "metadata": {
    "collapsed": true
   },
   "outputs": [],
   "source": [
    "numbers_by_country = numbers_by_country.fillna(0)"
   ]
  },
  {
   "cell_type": "code",
   "execution_count": 205,
   "metadata": {
    "collapsed": true
   },
   "outputs": [],
   "source": [
    "numbers_by_country['percent_booked'] = (numbers_by_country['booking_number']/numbers_by_country['total_users'])"
   ]
  },
  {
   "cell_type": "code",
   "execution_count": 206,
   "metadata": {
    "collapsed": true
   },
   "outputs": [],
   "source": [
    "numbers_by_country['percent_go_website'] = (numbers_by_country['users_click_hotel_web']/numbers_by_country['total_users'])"
   ]
  },
  {
   "cell_type": "code",
   "execution_count": 207,
   "metadata": {
    "collapsed": true
   },
   "outputs": [],
   "source": [
    "numbers_by_country['percent_go_website_no_book'] = ((numbers_by_country['users_click_hotel_web']-numbers_by_country['booked_and_hotel_web'])/numbers_by_country['total_users'])"
   ]
  },
  {
   "cell_type": "code",
   "execution_count": 208,
   "metadata": {},
   "outputs": [
    {
     "data": {
      "text/html": [
       "<div>\n",
       "<style>\n",
       "    .dataframe thead tr:only-child th {\n",
       "        text-align: right;\n",
       "    }\n",
       "\n",
       "    .dataframe thead th {\n",
       "        text-align: left;\n",
       "    }\n",
       "\n",
       "    .dataframe tbody tr th {\n",
       "        vertical-align: top;\n",
       "    }\n",
       "</style>\n",
       "<table border=\"1\" class=\"dataframe\">\n",
       "  <thead>\n",
       "    <tr style=\"text-align: right;\">\n",
       "      <th></th>\n",
       "      <th>booking_number</th>\n",
       "      <th>total_users</th>\n",
       "      <th>users_click_hotel_web</th>\n",
       "      <th>percent_booked</th>\n",
       "      <th>percent_go_website</th>\n",
       "      <th>booked_and_hotel_web</th>\n",
       "      <th>percent_go_website_no_book</th>\n",
       "    </tr>\n",
       "  </thead>\n",
       "  <tbody>\n",
       "    <tr>\n",
       "      <th>United States</th>\n",
       "      <td>4446.0</td>\n",
       "      <td>147305</td>\n",
       "      <td>13314.0</td>\n",
       "      <td>0.030182</td>\n",
       "      <td>0.090384</td>\n",
       "      <td>433.0</td>\n",
       "      <td>0.087444</td>\n",
       "    </tr>\n",
       "    <tr>\n",
       "      <th>Singapore</th>\n",
       "      <td>20.0</td>\n",
       "      <td>1054</td>\n",
       "      <td>84.0</td>\n",
       "      <td>0.018975</td>\n",
       "      <td>0.079696</td>\n",
       "      <td>0.0</td>\n",
       "      <td>0.079696</td>\n",
       "    </tr>\n",
       "    <tr>\n",
       "      <th>Canada</th>\n",
       "      <td>328.0</td>\n",
       "      <td>13609</td>\n",
       "      <td>1106.0</td>\n",
       "      <td>0.024102</td>\n",
       "      <td>0.081270</td>\n",
       "      <td>39.0</td>\n",
       "      <td>0.078404</td>\n",
       "    </tr>\n",
       "    <tr>\n",
       "      <th>New Zealand</th>\n",
       "      <td>11.0</td>\n",
       "      <td>753</td>\n",
       "      <td>61.0</td>\n",
       "      <td>0.014608</td>\n",
       "      <td>0.081009</td>\n",
       "      <td>2.0</td>\n",
       "      <td>0.078353</td>\n",
       "    </tr>\n",
       "    <tr>\n",
       "      <th>Australia</th>\n",
       "      <td>162.0</td>\n",
       "      <td>9117</td>\n",
       "      <td>685.0</td>\n",
       "      <td>0.017769</td>\n",
       "      <td>0.075134</td>\n",
       "      <td>20.0</td>\n",
       "      <td>0.072941</td>\n",
       "    </tr>\n",
       "    <tr>\n",
       "      <th>Finland</th>\n",
       "      <td>26.0</td>\n",
       "      <td>1137</td>\n",
       "      <td>81.0</td>\n",
       "      <td>0.022867</td>\n",
       "      <td>0.071240</td>\n",
       "      <td>2.0</td>\n",
       "      <td>0.069481</td>\n",
       "    </tr>\n",
       "    <tr>\n",
       "      <th>Israel</th>\n",
       "      <td>56.0</td>\n",
       "      <td>1709</td>\n",
       "      <td>122.0</td>\n",
       "      <td>0.032768</td>\n",
       "      <td>0.071387</td>\n",
       "      <td>9.0</td>\n",
       "      <td>0.066121</td>\n",
       "    </tr>\n",
       "    <tr>\n",
       "      <th>Switzerland</th>\n",
       "      <td>71.0</td>\n",
       "      <td>3240</td>\n",
       "      <td>214.0</td>\n",
       "      <td>0.021914</td>\n",
       "      <td>0.066049</td>\n",
       "      <td>9.0</td>\n",
       "      <td>0.063272</td>\n",
       "    </tr>\n",
       "    <tr>\n",
       "      <th>Belgium</th>\n",
       "      <td>28.0</td>\n",
       "      <td>2226</td>\n",
       "      <td>133.0</td>\n",
       "      <td>0.012579</td>\n",
       "      <td>0.059748</td>\n",
       "      <td>3.0</td>\n",
       "      <td>0.058401</td>\n",
       "    </tr>\n",
       "    <tr>\n",
       "      <th>Sweden</th>\n",
       "      <td>75.0</td>\n",
       "      <td>2795</td>\n",
       "      <td>171.0</td>\n",
       "      <td>0.026834</td>\n",
       "      <td>0.061181</td>\n",
       "      <td>8.0</td>\n",
       "      <td>0.058318</td>\n",
       "    </tr>\n",
       "    <tr>\n",
       "      <th>United Kingdom</th>\n",
       "      <td>835.0</td>\n",
       "      <td>62316</td>\n",
       "      <td>3669.0</td>\n",
       "      <td>0.013399</td>\n",
       "      <td>0.058877</td>\n",
       "      <td>95.0</td>\n",
       "      <td>0.057353</td>\n",
       "    </tr>\n",
       "    <tr>\n",
       "      <th>Denmark</th>\n",
       "      <td>37.0</td>\n",
       "      <td>1285</td>\n",
       "      <td>71.0</td>\n",
       "      <td>0.028794</td>\n",
       "      <td>0.055253</td>\n",
       "      <td>1.0</td>\n",
       "      <td>0.054475</td>\n",
       "    </tr>\n",
       "    <tr>\n",
       "      <th>Japan</th>\n",
       "      <td>114.0</td>\n",
       "      <td>6179</td>\n",
       "      <td>335.0</td>\n",
       "      <td>0.018450</td>\n",
       "      <td>0.054216</td>\n",
       "      <td>3.0</td>\n",
       "      <td>0.053730</td>\n",
       "    </tr>\n",
       "    <tr>\n",
       "      <th>Norway</th>\n",
       "      <td>64.0</td>\n",
       "      <td>1977</td>\n",
       "      <td>112.0</td>\n",
       "      <td>0.032372</td>\n",
       "      <td>0.056651</td>\n",
       "      <td>6.0</td>\n",
       "      <td>0.053617</td>\n",
       "    </tr>\n",
       "    <tr>\n",
       "      <th>France</th>\n",
       "      <td>260.0</td>\n",
       "      <td>17432</td>\n",
       "      <td>926.0</td>\n",
       "      <td>0.014915</td>\n",
       "      <td>0.053121</td>\n",
       "      <td>19.0</td>\n",
       "      <td>0.052031</td>\n",
       "    </tr>\n",
       "    <tr>\n",
       "      <th>Peru</th>\n",
       "      <td>12.0</td>\n",
       "      <td>392</td>\n",
       "      <td>20.0</td>\n",
       "      <td>0.030612</td>\n",
       "      <td>0.051020</td>\n",
       "      <td>0.0</td>\n",
       "      <td>0.051020</td>\n",
       "    </tr>\n",
       "    <tr>\n",
       "      <th>Russia</th>\n",
       "      <td>12.0</td>\n",
       "      <td>832</td>\n",
       "      <td>43.0</td>\n",
       "      <td>0.014423</td>\n",
       "      <td>0.051683</td>\n",
       "      <td>1.0</td>\n",
       "      <td>0.050481</td>\n",
       "    </tr>\n",
       "    <tr>\n",
       "      <th>Taiwan</th>\n",
       "      <td>18.0</td>\n",
       "      <td>578</td>\n",
       "      <td>29.0</td>\n",
       "      <td>0.031142</td>\n",
       "      <td>0.050173</td>\n",
       "      <td>0.0</td>\n",
       "      <td>0.050173</td>\n",
       "    </tr>\n",
       "    <tr>\n",
       "      <th>China</th>\n",
       "      <td>21.0</td>\n",
       "      <td>768</td>\n",
       "      <td>38.0</td>\n",
       "      <td>0.027344</td>\n",
       "      <td>0.049479</td>\n",
       "      <td>2.0</td>\n",
       "      <td>0.046875</td>\n",
       "    </tr>\n",
       "    <tr>\n",
       "      <th>Portugal</th>\n",
       "      <td>11.0</td>\n",
       "      <td>883</td>\n",
       "      <td>41.0</td>\n",
       "      <td>0.012458</td>\n",
       "      <td>0.046433</td>\n",
       "      <td>0.0</td>\n",
       "      <td>0.046433</td>\n",
       "    </tr>\n",
       "    <tr>\n",
       "      <th>The Netherlands</th>\n",
       "      <td>74.0</td>\n",
       "      <td>4457</td>\n",
       "      <td>203.0</td>\n",
       "      <td>0.016603</td>\n",
       "      <td>0.045546</td>\n",
       "      <td>5.0</td>\n",
       "      <td>0.044425</td>\n",
       "    </tr>\n",
       "    <tr>\n",
       "      <th>Caribbean</th>\n",
       "      <td>36.0</td>\n",
       "      <td>1986</td>\n",
       "      <td>94.0</td>\n",
       "      <td>0.018127</td>\n",
       "      <td>0.047331</td>\n",
       "      <td>6.0</td>\n",
       "      <td>0.044310</td>\n",
       "    </tr>\n",
       "    <tr>\n",
       "      <th>Philippines</th>\n",
       "      <td>12.0</td>\n",
       "      <td>826</td>\n",
       "      <td>37.0</td>\n",
       "      <td>0.014528</td>\n",
       "      <td>0.044794</td>\n",
       "      <td>1.0</td>\n",
       "      <td>0.043584</td>\n",
       "    </tr>\n",
       "    <tr>\n",
       "      <th>Greece</th>\n",
       "      <td>11.0</td>\n",
       "      <td>655</td>\n",
       "      <td>28.0</td>\n",
       "      <td>0.016794</td>\n",
       "      <td>0.042748</td>\n",
       "      <td>0.0</td>\n",
       "      <td>0.042748</td>\n",
       "    </tr>\n",
       "    <tr>\n",
       "      <th>South Africa</th>\n",
       "      <td>21.0</td>\n",
       "      <td>968</td>\n",
       "      <td>42.0</td>\n",
       "      <td>0.021694</td>\n",
       "      <td>0.043388</td>\n",
       "      <td>1.0</td>\n",
       "      <td>0.042355</td>\n",
       "    </tr>\n",
       "    <tr>\n",
       "      <th>Italy</th>\n",
       "      <td>112.0</td>\n",
       "      <td>14612</td>\n",
       "      <td>617.0</td>\n",
       "      <td>0.007665</td>\n",
       "      <td>0.042226</td>\n",
       "      <td>7.0</td>\n",
       "      <td>0.041747</td>\n",
       "    </tr>\n",
       "    <tr>\n",
       "      <th>Argentina</th>\n",
       "      <td>192.0</td>\n",
       "      <td>7526</td>\n",
       "      <td>328.0</td>\n",
       "      <td>0.025512</td>\n",
       "      <td>0.043582</td>\n",
       "      <td>16.0</td>\n",
       "      <td>0.041456</td>\n",
       "    </tr>\n",
       "    <tr>\n",
       "      <th>Spain</th>\n",
       "      <td>134.0</td>\n",
       "      <td>10715</td>\n",
       "      <td>439.0</td>\n",
       "      <td>0.012506</td>\n",
       "      <td>0.040971</td>\n",
       "      <td>9.0</td>\n",
       "      <td>0.040131</td>\n",
       "    </tr>\n",
       "    <tr>\n",
       "      <th>Germany</th>\n",
       "      <td>171.0</td>\n",
       "      <td>10568</td>\n",
       "      <td>410.0</td>\n",
       "      <td>0.016181</td>\n",
       "      <td>0.038796</td>\n",
       "      <td>11.0</td>\n",
       "      <td>0.037755</td>\n",
       "    </tr>\n",
       "    <tr>\n",
       "      <th>UNKNOWN</th>\n",
       "      <td>14.0</td>\n",
       "      <td>696</td>\n",
       "      <td>26.0</td>\n",
       "      <td>0.020115</td>\n",
       "      <td>0.037356</td>\n",
       "      <td>0.0</td>\n",
       "      <td>0.037356</td>\n",
       "    </tr>\n",
       "    <tr>\n",
       "      <th>Brazil</th>\n",
       "      <td>321.0</td>\n",
       "      <td>12475</td>\n",
       "      <td>437.0</td>\n",
       "      <td>0.025731</td>\n",
       "      <td>0.035030</td>\n",
       "      <td>15.0</td>\n",
       "      <td>0.033828</td>\n",
       "    </tr>\n",
       "    <tr>\n",
       "      <th>Chile</th>\n",
       "      <td>17.0</td>\n",
       "      <td>820</td>\n",
       "      <td>30.0</td>\n",
       "      <td>0.020732</td>\n",
       "      <td>0.036585</td>\n",
       "      <td>3.0</td>\n",
       "      <td>0.032927</td>\n",
       "    </tr>\n",
       "    <tr>\n",
       "      <th>Thailand</th>\n",
       "      <td>14.0</td>\n",
       "      <td>427</td>\n",
       "      <td>14.0</td>\n",
       "      <td>0.032787</td>\n",
       "      <td>0.032787</td>\n",
       "      <td>0.0</td>\n",
       "      <td>0.032787</td>\n",
       "    </tr>\n",
       "    <tr>\n",
       "      <th>India</th>\n",
       "      <td>16.0</td>\n",
       "      <td>1607</td>\n",
       "      <td>54.0</td>\n",
       "      <td>0.009956</td>\n",
       "      <td>0.033603</td>\n",
       "      <td>2.0</td>\n",
       "      <td>0.032358</td>\n",
       "    </tr>\n",
       "    <tr>\n",
       "      <th>Mexico</th>\n",
       "      <td>83.0</td>\n",
       "      <td>3228</td>\n",
       "      <td>105.0</td>\n",
       "      <td>0.025713</td>\n",
       "      <td>0.032528</td>\n",
       "      <td>2.0</td>\n",
       "      <td>0.031908</td>\n",
       "    </tr>\n",
       "    <tr>\n",
       "      <th>Ireland</th>\n",
       "      <td>135.0</td>\n",
       "      <td>7041</td>\n",
       "      <td>217.0</td>\n",
       "      <td>0.019173</td>\n",
       "      <td>0.030819</td>\n",
       "      <td>8.0</td>\n",
       "      <td>0.029683</td>\n",
       "    </tr>\n",
       "    <tr>\n",
       "      <th>Indonesia</th>\n",
       "      <td>16.0</td>\n",
       "      <td>454</td>\n",
       "      <td>12.0</td>\n",
       "      <td>0.035242</td>\n",
       "      <td>0.026432</td>\n",
       "      <td>0.0</td>\n",
       "      <td>0.026432</td>\n",
       "    </tr>\n",
       "    <tr>\n",
       "      <th>South Korea</th>\n",
       "      <td>37.0</td>\n",
       "      <td>1028</td>\n",
       "      <td>28.0</td>\n",
       "      <td>0.035992</td>\n",
       "      <td>0.027237</td>\n",
       "      <td>2.0</td>\n",
       "      <td>0.025292</td>\n",
       "    </tr>\n",
       "    <tr>\n",
       "      <th>Colombia</th>\n",
       "      <td>14.0</td>\n",
       "      <td>948</td>\n",
       "      <td>24.0</td>\n",
       "      <td>0.014768</td>\n",
       "      <td>0.025316</td>\n",
       "      <td>1.0</td>\n",
       "      <td>0.024262</td>\n",
       "    </tr>\n",
       "  </tbody>\n",
       "</table>\n",
       "</div>"
      ],
      "text/plain": [
       "                 booking_number  total_users  users_click_hotel_web  \\\n",
       "United States            4446.0       147305                13314.0   \n",
       "Singapore                  20.0         1054                   84.0   \n",
       "Canada                    328.0        13609                 1106.0   \n",
       "New Zealand                11.0          753                   61.0   \n",
       "Australia                 162.0         9117                  685.0   \n",
       "Finland                    26.0         1137                   81.0   \n",
       "Israel                     56.0         1709                  122.0   \n",
       "Switzerland                71.0         3240                  214.0   \n",
       "Belgium                    28.0         2226                  133.0   \n",
       "Sweden                     75.0         2795                  171.0   \n",
       "United Kingdom            835.0        62316                 3669.0   \n",
       "Denmark                    37.0         1285                   71.0   \n",
       "Japan                     114.0         6179                  335.0   \n",
       "Norway                     64.0         1977                  112.0   \n",
       "France                    260.0        17432                  926.0   \n",
       "Peru                       12.0          392                   20.0   \n",
       "Russia                     12.0          832                   43.0   \n",
       "Taiwan                     18.0          578                   29.0   \n",
       "China                      21.0          768                   38.0   \n",
       "Portugal                   11.0          883                   41.0   \n",
       "The Netherlands            74.0         4457                  203.0   \n",
       "Caribbean                  36.0         1986                   94.0   \n",
       "Philippines                12.0          826                   37.0   \n",
       "Greece                     11.0          655                   28.0   \n",
       "South Africa               21.0          968                   42.0   \n",
       "Italy                     112.0        14612                  617.0   \n",
       "Argentina                 192.0         7526                  328.0   \n",
       "Spain                     134.0        10715                  439.0   \n",
       "Germany                   171.0        10568                  410.0   \n",
       "UNKNOWN                    14.0          696                   26.0   \n",
       "Brazil                    321.0        12475                  437.0   \n",
       "Chile                      17.0          820                   30.0   \n",
       "Thailand                   14.0          427                   14.0   \n",
       "India                      16.0         1607                   54.0   \n",
       "Mexico                     83.0         3228                  105.0   \n",
       "Ireland                   135.0         7041                  217.0   \n",
       "Indonesia                  16.0          454                   12.0   \n",
       "South Korea                37.0         1028                   28.0   \n",
       "Colombia                   14.0          948                   24.0   \n",
       "\n",
       "                 percent_booked  percent_go_website  booked_and_hotel_web  \\\n",
       "United States          0.030182            0.090384                 433.0   \n",
       "Singapore              0.018975            0.079696                   0.0   \n",
       "Canada                 0.024102            0.081270                  39.0   \n",
       "New Zealand            0.014608            0.081009                   2.0   \n",
       "Australia              0.017769            0.075134                  20.0   \n",
       "Finland                0.022867            0.071240                   2.0   \n",
       "Israel                 0.032768            0.071387                   9.0   \n",
       "Switzerland            0.021914            0.066049                   9.0   \n",
       "Belgium                0.012579            0.059748                   3.0   \n",
       "Sweden                 0.026834            0.061181                   8.0   \n",
       "United Kingdom         0.013399            0.058877                  95.0   \n",
       "Denmark                0.028794            0.055253                   1.0   \n",
       "Japan                  0.018450            0.054216                   3.0   \n",
       "Norway                 0.032372            0.056651                   6.0   \n",
       "France                 0.014915            0.053121                  19.0   \n",
       "Peru                   0.030612            0.051020                   0.0   \n",
       "Russia                 0.014423            0.051683                   1.0   \n",
       "Taiwan                 0.031142            0.050173                   0.0   \n",
       "China                  0.027344            0.049479                   2.0   \n",
       "Portugal               0.012458            0.046433                   0.0   \n",
       "The Netherlands        0.016603            0.045546                   5.0   \n",
       "Caribbean              0.018127            0.047331                   6.0   \n",
       "Philippines            0.014528            0.044794                   1.0   \n",
       "Greece                 0.016794            0.042748                   0.0   \n",
       "South Africa           0.021694            0.043388                   1.0   \n",
       "Italy                  0.007665            0.042226                   7.0   \n",
       "Argentina              0.025512            0.043582                  16.0   \n",
       "Spain                  0.012506            0.040971                   9.0   \n",
       "Germany                0.016181            0.038796                  11.0   \n",
       "UNKNOWN                0.020115            0.037356                   0.0   \n",
       "Brazil                 0.025731            0.035030                  15.0   \n",
       "Chile                  0.020732            0.036585                   3.0   \n",
       "Thailand               0.032787            0.032787                   0.0   \n",
       "India                  0.009956            0.033603                   2.0   \n",
       "Mexico                 0.025713            0.032528                   2.0   \n",
       "Ireland                0.019173            0.030819                   8.0   \n",
       "Indonesia              0.035242            0.026432                   0.0   \n",
       "South Korea            0.035992            0.027237                   2.0   \n",
       "Colombia               0.014768            0.025316                   1.0   \n",
       "\n",
       "                 percent_go_website_no_book  \n",
       "United States                      0.087444  \n",
       "Singapore                          0.079696  \n",
       "Canada                             0.078404  \n",
       "New Zealand                        0.078353  \n",
       "Australia                          0.072941  \n",
       "Finland                            0.069481  \n",
       "Israel                             0.066121  \n",
       "Switzerland                        0.063272  \n",
       "Belgium                            0.058401  \n",
       "Sweden                             0.058318  \n",
       "United Kingdom                     0.057353  \n",
       "Denmark                            0.054475  \n",
       "Japan                              0.053730  \n",
       "Norway                             0.053617  \n",
       "France                             0.052031  \n",
       "Peru                               0.051020  \n",
       "Russia                             0.050481  \n",
       "Taiwan                             0.050173  \n",
       "China                              0.046875  \n",
       "Portugal                           0.046433  \n",
       "The Netherlands                    0.044425  \n",
       "Caribbean                          0.044310  \n",
       "Philippines                        0.043584  \n",
       "Greece                             0.042748  \n",
       "South Africa                       0.042355  \n",
       "Italy                              0.041747  \n",
       "Argentina                          0.041456  \n",
       "Spain                              0.040131  \n",
       "Germany                            0.037755  \n",
       "UNKNOWN                            0.037356  \n",
       "Brazil                             0.033828  \n",
       "Chile                              0.032927  \n",
       "Thailand                           0.032787  \n",
       "India                              0.032358  \n",
       "Mexico                             0.031908  \n",
       "Ireland                            0.029683  \n",
       "Indonesia                          0.026432  \n",
       "South Korea                        0.025292  \n",
       "Colombia                           0.024262  "
      ]
     },
     "execution_count": 208,
     "metadata": {},
     "output_type": "execute_result"
    }
   ],
   "source": [
    "numbers_by_country[numbers_by_country['booking_number'] > 10].sort_values([\"percent_go_website_no_book\"], ascending=False)"
   ]
  },
  {
   "cell_type": "code",
   "execution_count": 229,
   "metadata": {
    "collapsed": true
   },
   "outputs": [],
   "source": [
    "numbers_by_country['user_country'] = numbers_by_country.index"
   ]
  },
  {
   "cell_type": "code",
   "execution_count": 230,
   "metadata": {
    "collapsed": true
   },
   "outputs": [],
   "source": [
    "numbers_by_country['country_group'] = numbers_by_country.apply (lambda row: label_country_group (row),axis=1)"
   ]
  },
  {
   "cell_type": "code",
   "execution_count": 232,
   "metadata": {
    "collapsed": true
   },
   "outputs": [],
   "source": [
    "country_group_numbers = numbers_by_country.groupby('country_group').sum()"
   ]
  },
  {
   "cell_type": "code",
   "execution_count": 235,
   "metadata": {
    "collapsed": true
   },
   "outputs": [],
   "source": [
    "country_group_numbers['percent_booked'] = country_group_numbers['booking_number']/country_group_numbers['total_users']"
   ]
  },
  {
   "cell_type": "code",
   "execution_count": 239,
   "metadata": {
    "collapsed": true
   },
   "outputs": [],
   "source": [
    "country_group_numbers['country_group'] = country_group_numbers.index"
   ]
  },
  {
   "cell_type": "code",
   "execution_count": 240,
   "metadata": {},
   "outputs": [
    {
     "ename": "NameError",
     "evalue": "name 'plot' is not defined",
     "output_type": "error",
     "traceback": [
      "\u001b[1;31m---------------------------------------------------------------------------\u001b[0m",
      "\u001b[1;31mNameError\u001b[0m                                 Traceback (most recent call last)",
      "\u001b[1;32m<ipython-input-240-04f8ed5e3d90>\u001b[0m in \u001b[0;36m<module>\u001b[1;34m()\u001b[0m\n\u001b[0;32m      1\u001b[0m \u001b[0max\u001b[0m \u001b[1;33m=\u001b[0m \u001b[0msns\u001b[0m\u001b[1;33m.\u001b[0m\u001b[0mbarplot\u001b[0m\u001b[1;33m(\u001b[0m\u001b[0mx\u001b[0m\u001b[1;33m=\u001b[0m\u001b[1;34m\"country_group\"\u001b[0m\u001b[1;33m,\u001b[0m \u001b[0my\u001b[0m\u001b[1;33m=\u001b[0m\u001b[1;34m\"percent_booked\"\u001b[0m\u001b[1;33m,\u001b[0m \u001b[0mdata\u001b[0m\u001b[1;33m=\u001b[0m\u001b[0mcountry_group_numbers\u001b[0m\u001b[1;33m)\u001b[0m\u001b[1;33m\u001b[0m\u001b[0m\n\u001b[1;32m----> 2\u001b[1;33m \u001b[0mplot\u001b[0m\u001b[1;33m.\u001b[0m\u001b[0mshow\u001b[0m\u001b[1;33m(\u001b[0m\u001b[1;33m)\u001b[0m\u001b[1;33m\u001b[0m\u001b[0m\n\u001b[0m",
      "\u001b[1;31mNameError\u001b[0m: name 'plot' is not defined"
     ]
    },
    {
     "data": {
      "image/png": "[encoded data removed]",
      "text/plain": [
       "<matplotlib.figure.Figure at 0x1f01d58c0b8>"
      ]
     },
     "metadata": {},
     "output_type": "display_data"
    }
   ],
   "source": [
    "ax = sns.barplot(x=\"country_group\", y=\"percent_booked\", data=country_group_numbers)\n",
    "plot.show()"
   ]
  },
  {
   "cell_type": "markdown",
   "metadata": {},
   "source": [
    "## Zip Code Data Cleaning"
   ]
  },
  {
   "cell_type": "code",
   "execution_count": 3,
   "metadata": {},
   "outputs": [],
   "source": [
    "rental_by_zip = pd.read_csv('rental_prices.csv')\n",
    "hotel_with_zip = pd.read_csv('hotelcombined2.csv')\n",
    "\n",
    "rental_by_zip = rental_by_zip.groupby('zipcode').sum()/7\n",
    "rental_by_zip['zipcode'] = rental_by_zip.index\n",
    "rental_by_zip['zipcode']=rental_by_zip['zipcode'].apply(lambda x: int(float('{0:0>5}'.format(x))))\n",
    "\n",
    "hotel_with_zip['zipcode'] = hotel_with_zip['zipcode'].fillna(0)\n",
    "hotel_with_zip['zipcode']=hotel_with_zip['zipcode'].apply(lambda x: int(float('{0:0>5}'.format(x))))\n",
    "\n",
    "hotel_with_rental_price = pd.merge(hotel_with_zip, rental_by_zip[['zipcode', '1_br_total']], on = 'zipcode', how = 'left')\n",
    "hotel_with_rental_price = hotel_with_rental_price.drop(\"Unnamed: 0\", axis = 1)\n",
    "\n",
    "#If decide want 0s instead of NaNs: \n",
    "hotel_with_rental_price['1_br_total'] = hotel_with_rental_price['1_br_total'].fillna(0)\n",
    "\n",
    "hotel_with_rental_price.to_csv('hotel_data_with_prices.csv', encoding='utf-8', index = False)\n"
   ]
  },
  {
   "cell_type": "markdown",
   "metadata": {},
   "source": [
    "## Exploratory Data Analysis"
   ]
  },
  {
   "cell_type": "markdown",
   "metadata": {},
   "source": [
    "### Activity dataset"
   ]
  },
  {
   "cell_type": "code",
   "execution_count": 4,
   "metadata": {},
   "outputs": [
    {
     "name": "stdout",
     "output_type": "stream",
     "text": [
      "(1577114, 6)\n"
     ]
    },
    {
     "data": {
      "text/html": [
       "<div>\n",
       "<style>\n",
       "    .dataframe thead tr:only-child th {\n",
       "        text-align: right;\n",
       "    }\n",
       "\n",
       "    .dataframe thead th {\n",
       "        text-align: left;\n",
       "    }\n",
       "\n",
       "    .dataframe tbody tr th {\n",
       "        vertical-align: top;\n",
       "    }\n",
       "</style>\n",
       "<table border=\"1\" class=\"dataframe\">\n",
       "  <thead>\n",
       "    <tr style=\"text-align: right;\">\n",
       "      <th></th>\n",
       "      <th>date</th>\n",
       "      <th>user_id</th>\n",
       "      <th>user_country</th>\n",
       "      <th>device</th>\n",
       "      <th>hotel_id</th>\n",
       "      <th>user_action</th>\n",
       "    </tr>\n",
       "  </thead>\n",
       "  <tbody>\n",
       "    <tr>\n",
       "      <th>0</th>\n",
       "      <td>2019-01-07</td>\n",
       "      <td>314066</td>\n",
       "      <td>Italy</td>\n",
       "      <td>iphone_native_app</td>\n",
       "      <td>570101</td>\n",
       "      <td>view</td>\n",
       "    </tr>\n",
       "    <tr>\n",
       "      <th>1</th>\n",
       "      <td>2019-01-02</td>\n",
       "      <td>314066</td>\n",
       "      <td>Italy</td>\n",
       "      <td>iphone_native_app</td>\n",
       "      <td>6002536</td>\n",
       "      <td>view</td>\n",
       "    </tr>\n",
       "    <tr>\n",
       "      <th>2</th>\n",
       "      <td>2019-01-19</td>\n",
       "      <td>84981</td>\n",
       "      <td>United Kingdom</td>\n",
       "      <td>iphone_native_app</td>\n",
       "      <td>1858923</td>\n",
       "      <td>view</td>\n",
       "    </tr>\n",
       "  </tbody>\n",
       "</table>\n",
       "</div>"
      ],
      "text/plain": [
       "         date  user_id    user_country             device  hotel_id  \\\n",
       "0  2019-01-07   314066           Italy  iphone_native_app    570101   \n",
       "1  2019-01-02   314066           Italy  iphone_native_app   6002536   \n",
       "2  2019-01-19    84981  United Kingdom  iphone_native_app   1858923   \n",
       "\n",
       "  user_action  \n",
       "0        view  \n",
       "1        view  \n",
       "2        view  "
      ]
     },
     "execution_count": 4,
     "metadata": {},
     "output_type": "execute_result"
    }
   ],
   "source": [
    "print(activity.shape)\n",
    "activity.head(3)"
   ]
  },
  {
   "cell_type": "markdown",
   "metadata": {},
   "source": [
    "#### Sizing"
   ]
  },
  {
   "cell_type": "code",
   "execution_count": 20,
   "metadata": {},
   "outputs": [
    {
     "name": "stdout",
     "output_type": "stream",
     "text": [
      "There are 1577114 user-hotel actions\n",
      "There are 363619 unique users\n",
      "There are 8203 unique users with booking\n",
      "There are 8718 users with booking\n",
      "There are 1057 unique hotels\n",
      "There are 563 unique hotels with booking\n"
     ]
    }
   ],
   "source": [
    "print('There are %s user-hotel actions'% len(activity)) \n",
    "print('There are %s unique users'% len(activity['user_id'].unique()))\n",
    "print('There are %s unique users with booking'% len(activity[activity.user_action=='booking']['user_id'].unique()))\n",
    "print('There are %s users with booking' %len(activity[activity.user_action=='booking']['user_id']))\n",
    "print('There are %s unique hotels'% len(activity['hotel_id'].unique())) \n",
    "print('There are %s unique hotels with booking'% len(activity[activity.user_action=='booking']['hotel_id'].unique()))"
   ]
  },
  {
   "cell_type": "code",
   "execution_count": 21,
   "metadata": {
    "scrolled": false
   },
   "outputs": [
    {
     "data": {
      "image/png": "[encoded data removed]",
      "text/plain": [
       "<matplotlib.figure.Figure at 0x1f0169caf60>"
      ]
     },
     "metadata": {},
     "output_type": "display_data"
    }
   ],
   "source": [
    "fig, ax = plt.subplots(figsize=(16, 4))\n",
    "ax=sns.countplot( x='date', hue=\"user_action\",data=activity.sort_values('date'))\n",
    "ax.set_xticklabels(ax.get_xticklabels(), rotation=40, ha=\"right\")\n",
    "plt.show()"
   ]
  },
  {
   "cell_type": "markdown",
   "metadata": {},
   "source": [
    "#### Type of user_action"
   ]
  },
  {
   "cell_type": "code",
   "execution_count": 7,
   "metadata": {},
   "outputs": [
    {
     "data": {
      "text/plain": [
       "view                   1194404\n",
       "price_click             338356\n",
       "hotel_website_click      35636\n",
       "booking                   8718\n",
       "Name: user_action, dtype: int64"
      ]
     },
     "execution_count": 7,
     "metadata": {},
     "output_type": "execute_result"
    }
   ],
   "source": [
    "activity['user_action'].value_counts()"
   ]
  },
  {
   "cell_type": "code",
   "execution_count": 8,
   "metadata": {},
   "outputs": [
    {
     "name": "stdout",
     "output_type": "stream",
     "text": [
      "Example of funnel\n"
     ]
    },
    {
     "data": {
      "text/html": [
       "<div>\n",
       "<style>\n",
       "    .dataframe thead tr:only-child th {\n",
       "        text-align: right;\n",
       "    }\n",
       "\n",
       "    .dataframe thead th {\n",
       "        text-align: left;\n",
       "    }\n",
       "\n",
       "    .dataframe tbody tr th {\n",
       "        vertical-align: top;\n",
       "    }\n",
       "</style>\n",
       "<table border=\"1\" class=\"dataframe\">\n",
       "  <thead>\n",
       "    <tr style=\"text-align: right;\">\n",
       "      <th></th>\n",
       "      <th>date</th>\n",
       "      <th>user_id</th>\n",
       "      <th>user_country</th>\n",
       "      <th>device</th>\n",
       "      <th>hotel_id</th>\n",
       "      <th>user_action</th>\n",
       "    </tr>\n",
       "  </thead>\n",
       "  <tbody>\n",
       "    <tr>\n",
       "      <th>442</th>\n",
       "      <td>2019-01-19</td>\n",
       "      <td>306169</td>\n",
       "      <td>Sweden</td>\n",
       "      <td>osx</td>\n",
       "      <td>80110</td>\n",
       "      <td>price_click</td>\n",
       "    </tr>\n",
       "    <tr>\n",
       "      <th>444</th>\n",
       "      <td>2019-01-19</td>\n",
       "      <td>306169</td>\n",
       "      <td>Sweden</td>\n",
       "      <td>osx</td>\n",
       "      <td>80110</td>\n",
       "      <td>booking</td>\n",
       "    </tr>\n",
       "    <tr>\n",
       "      <th>445</th>\n",
       "      <td>2019-01-19</td>\n",
       "      <td>306169</td>\n",
       "      <td>Sweden</td>\n",
       "      <td>osx</td>\n",
       "      <td>80110</td>\n",
       "      <td>view</td>\n",
       "    </tr>\n",
       "  </tbody>\n",
       "</table>\n",
       "</div>"
      ],
      "text/plain": [
       "           date  user_id user_country device  hotel_id  user_action\n",
       "442  2019-01-19   306169       Sweden    osx     80110  price_click\n",
       "444  2019-01-19   306169       Sweden    osx     80110      booking\n",
       "445  2019-01-19   306169       Sweden    osx     80110         view"
      ]
     },
     "execution_count": 8,
     "metadata": {},
     "output_type": "execute_result"
    }
   ],
   "source": [
    "print('Example of funnel')\n",
    "activity[(activity.user_id==306169) &(activity.hotel_id==80110)]"
   ]
  },
  {
   "cell_type": "markdown",
   "metadata": {},
   "source": [
    "#### User-hotel interactions"
   ]
  },
  {
   "cell_type": "code",
   "execution_count": 9,
   "metadata": {},
   "outputs": [
    {
     "data": {
      "text/plain": [
       "<matplotlib.text.Text at 0x1f01709ab70>"
      ]
     },
     "execution_count": 9,
     "metadata": {},
     "output_type": "execute_result"
    },
    {
     "data": {
      "image/png": "[encoded data removed]",
      "text/plain": [
       "<matplotlib.figure.Figure at 0x1f0150653c8>"
      ]
     },
     "metadata": {},
     "output_type": "display_data"
    }
   ],
   "source": [
    "# Activity by device\n",
    "ax=activity['device'].value_counts().plot(kind='bar', color='green', title = 'Activity by device' )\n",
    "ax.set_xlabel(\"device\")\n",
    "ax.set_ylabel(\"activity count\")"
   ]
  },
  {
   "cell_type": "code",
   "execution_count": 7,
   "metadata": {},
   "outputs": [
    {
     "data": {
      "text/plain": [
       "<matplotlib.text.Text at 0x22ddf73f8d0>"
      ]
     },
     "execution_count": 7,
     "metadata": {},
     "output_type": "execute_result"
    },
    {
     "data": {
      "image/png": "[encoded data removed]",
      "text/plain": [
       "<matplotlib.figure.Figure at 0x22ddf7567f0>"
      ]
     },
     "metadata": {},
     "output_type": "display_data"
    }
   ],
   "source": [
    "# Booking by device\n",
    "ax=booking['device'].value_counts().plot(kind='bar', color='green', title = 'Booking by device' )\n",
    "ax.set_xlabel(\"device\")\n",
    "ax.set_ylabel(\"activity count\")"
   ]
  },
  {
   "cell_type": "code",
   "execution_count": 10,
   "metadata": {},
   "outputs": [
    {
     "data": {
      "text/plain": [
       "<matplotlib.text.Text at 0x1f016621ef0>"
      ]
     },
     "execution_count": 10,
     "metadata": {},
     "output_type": "execute_result"
    },
    {
     "data": {
      "image/png": "[encoded data removed]",
      "text/plain": [
       "<matplotlib.figure.Figure at 0x1f0165d0f98>"
      ]
     },
     "metadata": {},
     "output_type": "display_data"
    }
   ],
   "source": [
    "# Popular user country\n",
    "ax=activity['user_country'].value_counts().head(20).plot(kind='bar', color='green', title = 'Top 20 country by activity count' )\n",
    "ax.set_xlabel(\"user_country\")\n",
    "ax.set_ylabel(\"activity count\")"
   ]
  },
  {
   "cell_type": "code",
   "execution_count": 11,
   "metadata": {},
   "outputs": [
    {
     "data": {
      "text/plain": [
       "<matplotlib.text.Text at 0x1f016744320>"
      ]
     },
     "execution_count": 11,
     "metadata": {},
     "output_type": "execute_result"
    },
    {
     "data": {
      "image/png": "[encoded data removed]",
      "text/plain": [
       "<matplotlib.figure.Figure at 0x1f01665d080>"
      ]
     },
     "metadata": {},
     "output_type": "display_data"
    }
   ],
   "source": [
    "# popular hotels\n",
    "ax=activity['hotel_id'].value_counts().head(30).plot(kind='bar', color='green', title = 'Top 30 hotel by activity count' )\n",
    "ax.set_xlabel(\"hotel_id\")\n",
    "ax.set_ylabel(\"activity count\")"
   ]
  },
  {
   "cell_type": "markdown",
   "metadata": {},
   "source": [
    "### Hotel dataset EDA"
   ]
  },
  {
   "cell_type": "code",
   "execution_count": 12,
   "metadata": {
    "scrolled": true
   },
   "outputs": [
    {
     "name": "stdout",
     "output_type": "stream",
     "text": [
      "(1057, 9)\n"
     ]
    },
    {
     "data": {
      "text/html": [
       "<div>\n",
       "<style>\n",
       "    .dataframe thead tr:only-child th {\n",
       "        text-align: right;\n",
       "    }\n",
       "\n",
       "    .dataframe thead th {\n",
       "        text-align: left;\n",
       "    }\n",
       "\n",
       "    .dataframe tbody tr th {\n",
       "        vertical-align: top;\n",
       "    }\n",
       "</style>\n",
       "<table border=\"1\" class=\"dataframe\">\n",
       "  <thead>\n",
       "    <tr style=\"text-align: right;\">\n",
       "      <th></th>\n",
       "      <th>hotel_id</th>\n",
       "      <th>hotel_name</th>\n",
       "      <th>city_name</th>\n",
       "      <th>star_rating</th>\n",
       "      <th>bubble_score</th>\n",
       "      <th>review_count</th>\n",
       "      <th>hotel_type</th>\n",
       "      <th>brand_name</th>\n",
       "      <th>parent_brand_name</th>\n",
       "    </tr>\n",
       "  </thead>\n",
       "  <tbody>\n",
       "    <tr>\n",
       "      <th>0</th>\n",
       "      <td>75737</td>\n",
       "      <td>Night Theater District</td>\n",
       "      <td>New York City</td>\n",
       "      <td>4.0</td>\n",
       "      <td>40.0</td>\n",
       "      <td>2291</td>\n",
       "      <td>Hotel</td>\n",
       "      <td>Night Hotel</td>\n",
       "      <td>Wyndham Hotel Group</td>\n",
       "    </tr>\n",
       "    <tr>\n",
       "      <th>1</th>\n",
       "      <td>93401</td>\n",
       "      <td>Heritage Hotel New York City</td>\n",
       "      <td>New York City</td>\n",
       "      <td>2.5</td>\n",
       "      <td>35.0</td>\n",
       "      <td>968</td>\n",
       "      <td>Hotel</td>\n",
       "      <td>None</td>\n",
       "      <td>NaN</td>\n",
       "    </tr>\n",
       "    <tr>\n",
       "      <th>2</th>\n",
       "      <td>224217</td>\n",
       "      <td>Clarion Hotel Park Avenue</td>\n",
       "      <td>New York City</td>\n",
       "      <td>2.5</td>\n",
       "      <td>35.0</td>\n",
       "      <td>462</td>\n",
       "      <td>Hotel</td>\n",
       "      <td>Clarion</td>\n",
       "      <td>Choice Hotels International, Inc.</td>\n",
       "    </tr>\n",
       "  </tbody>\n",
       "</table>\n",
       "</div>"
      ],
      "text/plain": [
       "   hotel_id                    hotel_name      city_name  star_rating  \\\n",
       "0     75737        Night Theater District  New York City          4.0   \n",
       "1     93401  Heritage Hotel New York City  New York City          2.5   \n",
       "2    224217     Clarion Hotel Park Avenue  New York City          2.5   \n",
       "\n",
       "   bubble_score  review_count hotel_type   brand_name  \\\n",
       "0          40.0          2291      Hotel  Night Hotel   \n",
       "1          35.0           968      Hotel         None   \n",
       "2          35.0           462      Hotel      Clarion   \n",
       "\n",
       "                   parent_brand_name  \n",
       "0                Wyndham Hotel Group  \n",
       "1                                NaN  \n",
       "2  Choice Hotels International, Inc.  "
      ]
     },
     "execution_count": 12,
     "metadata": {},
     "output_type": "execute_result"
    }
   ],
   "source": [
    "print(hotel.shape)\n",
    "hotel.head(3)"
   ]
  },
  {
   "cell_type": "code",
   "execution_count": 13,
   "metadata": {},
   "outputs": [
    {
     "name": "stdout",
     "output_type": "stream",
     "text": [
      "There are 1057 unique rows\n",
      "There are 1057 unique hotels\n"
     ]
    }
   ],
   "source": [
    "print('There are %s unique rows'% len(hotel['hotel_id'])) \n",
    "print('There are %s unique hotels'% len(hotel['hotel_id'].unique()))\n"
   ]
  },
  {
   "cell_type": "code",
   "execution_count": 14,
   "metadata": {},
   "outputs": [
    {
     "data": {
      "image/png": "[encoded data removed]",
      "text/plain": [
       "<matplotlib.figure.Figure at 0x1f01686b198>"
      ]
     },
     "metadata": {},
     "output_type": "display_data"
    }
   ],
   "source": [
    "# Hotel type\n",
    "ax=sns.countplot( x='hotel_type', color='green',data=hotel.sort_values('hotel_type'),\n",
    "                 order=hotel['hotel_type'].value_counts().index)\n",
    "ax.set_xticklabels(ax.get_xticklabels(), rotation=40, ha=\"right\")\n",
    "plt.show()"
   ]
  },
  {
   "cell_type": "code",
   "execution_count": 15,
   "metadata": {},
   "outputs": [
    {
     "data": {
      "image/png": "[encoded data removed]",
      "text/plain": [
       "<matplotlib.figure.Figure at 0x1f01684d198>"
      ]
     },
     "metadata": {},
     "output_type": "display_data"
    }
   ],
   "source": [
    "# Hotel city name\n",
    "ax=sns.countplot( x='city_name', color='green',data=hotel.sort_values('hotel_type'),\n",
    "                 order=hotel['city_name'].value_counts().index)\n",
    "ax.set_xticklabels(ax.get_xticklabels(), rotation=40, ha=\"right\")\n",
    "plt.show()"
   ]
  },
  {
   "cell_type": "code",
   "execution_count": 16,
   "metadata": {},
   "outputs": [
    {
     "data": {
      "text/plain": [
       "<matplotlib.text.Text at 0x1f0167c3f28>"
      ]
     },
     "execution_count": 16,
     "metadata": {},
     "output_type": "execute_result"
    },
    {
     "data": {
      "image/png": "[encoded data removed]",
      "text/plain": [
       "<matplotlib.figure.Figure at 0x1f017074470>"
      ]
     },
     "metadata": {},
     "output_type": "display_data"
    }
   ],
   "source": [
    "# Star Rating\n",
    "sns.countplot(x=\"star_rating\", data=hotel, color='green').set_title(\"Hotels by star_rating\")"
   ]
  },
  {
   "cell_type": "code",
   "execution_count": 17,
   "metadata": {},
   "outputs": [
    {
     "data": {
      "text/plain": [
       "<matplotlib.axes._subplots.AxesSubplot at 0x1f0168fceb8>"
      ]
     },
     "execution_count": 17,
     "metadata": {},
     "output_type": "execute_result"
    },
    {
     "data": {
      "image/png": "[encoded data removed]",
      "text/plain": [
       "<matplotlib.figure.Figure at 0x1f0166edb38>"
      ]
     },
     "metadata": {},
     "output_type": "display_data"
    }
   ],
   "source": [
    "hotel.plot.scatter('star_rating','bubble_score', alpha=0.2)"
   ]
  },
  {
   "cell_type": "code",
   "execution_count": 18,
   "metadata": {},
   "outputs": [
    {
     "data": {
      "text/plain": [
       "<matplotlib.axes._subplots.AxesSubplot at 0x1f016ad1ac8>"
      ]
     },
     "execution_count": 18,
     "metadata": {},
     "output_type": "execute_result"
    },
    {
     "data": {
      "image/png": "[encoded data removed]",
      "text/plain": [
       "<matplotlib.figure.Figure at 0x1f01705c358>"
      ]
     },
     "metadata": {},
     "output_type": "display_data"
    }
   ],
   "source": [
    "hotel.plot.scatter('review_count','bubble_score', alpha=0.2)"
   ]
  },
  {
   "cell_type": "code",
   "execution_count": null,
   "metadata": {
    "collapsed": true
   },
   "outputs": [],
   "source": []
  }
 ],
 "metadata": {
  "kernelspec": {
   "display_name": "Python 3",
   "language": "python",
   "name": "python3"
  },
  "language_info": {
   "codemirror_mode": {
    "name": "ipython",
    "version": 3
   },
   "file_extension": ".py",
   "mimetype": "text/x-python",
   "name": "python",
   "nbconvert_exporter": "python",
   "pygments_lexer": "ipython3",
   "version": "3.6.2"
  }
 },
 "nbformat": 4,
 "nbformat_minor": 2
}
